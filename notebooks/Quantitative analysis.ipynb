{
 "cells": [
  {
   "cell_type": "code",
   "execution_count": 5,
   "id": "1e86e06d",
   "metadata": {},
   "outputs": [
    {
     "name": "stdout",
     "output_type": "stream",
     "text": [
      "Processing c:\\users\\yohanan\\price-prediction-from-news-sentiment\\notebooks\\downloads\\ta_lib-0.6.3-cp313-cp313-win_amd64.whl\n",
      "Requirement already satisfied: setuptools in c:\\users\\yohanan\\price-prediction-from-news-sentiment\\.venv\\lib\\site-packages (from ta-lib==0.6.3) (80.9.0)\n",
      "Requirement already satisfied: numpy in c:\\users\\yohanan\\price-prediction-from-news-sentiment\\.venv\\lib\\site-packages (from ta-lib==0.6.3) (2.2.6)\n",
      "ta-lib is already installed with the same version as the provided wheel. Use --force-reinstall to force an installation of the wheel.\n",
      "Note: you may need to restart the kernel to use updated packages.\n",
      "                  Open        High         Low       Close   Volume\n",
      "Date                                                               \n",
      "2023-01-01  209.702821  182.148208  186.074573  196.663265  1857726\n",
      "2023-01-02  220.278653  184.878227  216.387152  167.940137  1072184\n",
      "2023-01-03  173.381521  189.388602  197.531391  224.036556  3006991\n",
      "2023-01-04  241.367643  211.259249  228.610903  208.416065  2291163\n",
      "2023-01-05  225.808678  167.269058  194.631853  241.942538  2272979\n"
     ]
    }
   ],
   "source": [
    "import pandas as pd\n",
    "import os\n",
    "%pip install C:\\Users\\Yohanan\\price-prediction-from-news-sentiment\\notebooks\\downloads\\ta_lib-0.6.3-cp313-cp313-win_amd64.whl\n",
    "file_path = 'data/finance_data/AAPL_historical_data'\n",
    "\n",
    "if os.path.exists(file_path):\n",
    "\t# Load stock data (replace with your data source, e.g., a CSV or API)\n",
    "\tdata = pd.read_csv(file_path, parse_dates=['Date'], index_col='Date')\n",
    "else:\n",
    "\t# Create a sample DataFrame if the file does not exist\n",
    "\timport numpy as np\n",
    "\tdates = pd.date_range(start='2023-01-01', periods=5, freq='D')\n",
    "\tdata = pd.DataFrame({\n",
    "\t\t'Open': np.random.rand(5) * 100 + 150,\n",
    "\t\t'High': np.random.rand(5) * 100 + 150,\n",
    "\t\t'Low': np.random.rand(5) * 100 + 150,\n",
    "\t\t'Close': np.random.rand(5) * 100 + 150,\n",
    "\t\t'Volume': np.random.randint(1000000, 5000000, size=5)\n",
    "\t}, index=dates)\n",
    "\tdata.index.name = 'Date'\n",
    "\n",
    "# Preview the data\n",
    "print(data.head())\n",
    "\n",
    "\n",
    "import talib\n",
    "\n",
    "# 'data' is already defined in a previous cell.\n",
    "\n",
    "# Moving Averages\n",
    "data['SMA_20'] = talib.SMA(data['Close'], timeperiod=20)\n",
    "data['EMA_50'] = talib.EMA(data['Close'], timeperiod=50)\n",
    "\n",
    "# RSI (Relative Strength Index)\n",
    "data['RSI_14'] = talib.RSI(data['Close'], timeperiod=14)\n",
    "\n",
    "# MACD (Moving Average Convergence Divergence)\n",
    "macd, macd_signal, macd_hist = talib.MACD(data['Close'], fastperiod=12, slowperiod=26, signalperiod=9)\n",
    "data['MACD'] = macd\n",
    "data['MACD_Signal'] = macd_signal\n",
    "data['MACD_Hist'] = macd_hist"
   ]
  },
  {
   "cell_type": "code",
   "execution_count": null,
   "id": "174fd910",
   "metadata": {},
   "outputs": [],
   "source": []
  }
 ],
 "metadata": {
  "kernelspec": {
   "display_name": ".venv",
   "language": "python",
   "name": "python3"
  },
  "language_info": {
   "codemirror_mode": {
    "name": "ipython",
    "version": 3
   },
   "file_extension": ".py",
   "mimetype": "text/x-python",
   "name": "python",
   "nbconvert_exporter": "python",
   "pygments_lexer": "ipython3",
   "version": "3.13.3"
  }
 },
 "nbformat": 4,
 "nbformat_minor": 5
}
