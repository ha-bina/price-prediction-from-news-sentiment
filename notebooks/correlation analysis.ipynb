{
 "cells": [
  {
   "cell_type": "code",
   "execution_count": 13,
   "id": "693751cc",
   "metadata": {},
   "outputs": [
    {
     "name": "stdout",
     "output_type": "stream",
     "text": [
      "Requirement already satisfied: nltk in c:\\users\\yohanan\\price-prediction-from-news-sentiment\\.venv\\lib\\site-packages (3.9.1)\n",
      "Requirement already satisfied: click in c:\\users\\yohanan\\price-prediction-from-news-sentiment\\.venv\\lib\\site-packages (from nltk) (8.2.1)\n",
      "Requirement already satisfied: joblib in c:\\users\\yohanan\\price-prediction-from-news-sentiment\\.venv\\lib\\site-packages (from nltk) (1.5.1)\n",
      "Requirement already satisfied: regex>=2021.8.3 in c:\\users\\yohanan\\price-prediction-from-news-sentiment\\.venv\\lib\\site-packages (from nltk) (2024.11.6)\n",
      "Requirement already satisfied: tqdm in c:\\users\\yohanan\\price-prediction-from-news-sentiment\\.venv\\lib\\site-packages (from nltk) (4.67.1)\n",
      "Requirement already satisfied: colorama in c:\\users\\yohanan\\price-prediction-from-news-sentiment\\.venv\\lib\\site-packages (from click->nltk) (0.4.6)\n",
      "Note: you may need to restart the kernel to use updated packages.\n"
     ]
    },
    {
     "ename": "ImportError",
     "evalue": "cannot import name 'plot_correlation' from 'scripts.correlation' (c:\\Users\\Yohanan\\price-prediction-from-news-sentiment\\scripts\\correlation.py)",
     "output_type": "error",
     "traceback": [
      "\u001b[31m---------------------------------------------------------------------------\u001b[39m",
      "\u001b[31mImportError\u001b[39m                               Traceback (most recent call last)",
      "\u001b[36mCell\u001b[39m\u001b[36m \u001b[39m\u001b[32mIn[13]\u001b[39m\u001b[32m, line 3\u001b[39m\n\u001b[32m      1\u001b[39m get_ipython().run_line_magic(\u001b[33m'\u001b[39m\u001b[33mpip\u001b[39m\u001b[33m'\u001b[39m, \u001b[33m'\u001b[39m\u001b[33minstall nltk\u001b[39m\u001b[33m'\u001b[39m)\n\u001b[32m      2\u001b[39m \u001b[38;5;28;01mimport\u001b[39;00m\u001b[38;5;250m \u001b[39m\u001b[34;01mnltk\u001b[39;00m\n\u001b[32m----> \u001b[39m\u001b[32m3\u001b[39m \u001b[38;5;28;01mfrom\u001b[39;00m\u001b[38;5;250m \u001b[39m\u001b[34;01mscripts\u001b[39;00m\u001b[34;01m.\u001b[39;00m\u001b[34;01mcorrelation\u001b[39;00m\u001b[38;5;250m \u001b[39m\u001b[38;5;28;01mimport\u001b[39;00m align_data, analyze_correlation,calculate_sentiment, interpret_correlation, plot_correlation \n\u001b[32m      4\u001b[39m news_data = \u001b[33m\"\u001b[39m\u001b[33mdata/raw_analyst_rating.csv\u001b[39m\u001b[33m\"\u001b[39m\n\u001b[32m      5\u001b[39m stock1_data = \u001b[33m\"\u001b[39m\u001b[33mdata/yfinance_data/APPL_historical_data.csv\u001b[39m\u001b[33m\"\u001b[39m\n",
      "\u001b[31mImportError\u001b[39m: cannot import name 'plot_correlation' from 'scripts.correlation' (c:\\Users\\Yohanan\\price-prediction-from-news-sentiment\\scripts\\correlation.py)"
     ]
    }
   ],
   "source": [
    "%pip install nltk\n",
    "import nltk\n",
    "from scripts.correlation import align_data, analyze_correlation,calculate_sentiment, interpret_correlation, plot_correlation \n",
    "news_data = \"data/raw_analyst_rating.csv\"\n",
    "stock1_data = \"data/yfinance_data/APPL_historical_data.csv\"\n",
    "align_data(news_data, stock1_data)\n",
    "nltk.download('vader_lexicon')\n",
    "nltk.download('punkt')\n",
    "analyze_correlation(news_data, stock1_data)\n",
    "calculate_sentiment(news_data)  \n",
    "interpret_correlation(news_data, stock1_data)\n",
    "plot_correlation(news_data, stock1_data)\n",
    "import matplotlib.pyplot as plt\n",
    "plt.show()  \n"
   ]
  }
 ],
 "metadata": {
  "kernelspec": {
   "display_name": ".venv",
   "language": "python",
   "name": "python3"
  },
  "language_info": {
   "codemirror_mode": {
    "name": "ipython",
    "version": 3
   },
   "file_extension": ".py",
   "mimetype": "text/x-python",
   "name": "python",
   "nbconvert_exporter": "python",
   "pygments_lexer": "ipython3",
   "version": "3.13.3"
  }
 },
 "nbformat": 4,
 "nbformat_minor": 5
}
