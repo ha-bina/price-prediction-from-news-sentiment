{
 "cells": [
  {
   "cell_type": "code",
   "execution_count": null,
   "id": "e0d03457",
   "metadata": {},
   "outputs": [],
   "source": [
    "%pip install nltk\n",
    "import sys\n",
    "import os\n",
    "import sys\n",
    "import os\n",
    "import nltk\n",
    "# If scripts.correlation is not found, ensure the scripts directory is in the sys.path\n",
    "sys.path.append(os.path.abspath(os.path.join(os.getcwd(), '..')))\n",
    "\n",
    "# Use the known correlation_path variable to add the scripts directory to sys.path\n",
    "scripts_dir = os.path.dirname(correlation_path)\n",
    "if scripts_dir not in sys.path:\n",
    "\tsys.path.insert(0, scripts_dir)\n",
    "\n",
    "if not os.path.exists(correlation_path):\n",
    "\traise FileNotFoundError(f\"Could not find '{correlation_path}'. Please ensure 'correlation.py' exists in the 'scripts' directory one level above your current working directory.\")\n",
    "\n",
    "try:\n",
    "\tfrom correlation import align_data, analyze_correlation, calculate_sentiment, interpret_correlation, plot_correlation\n",
    "except ModuleNotFoundError:\n",
    "\traise ModuleNotFoundError(\"Could not import 'correlation'. Make sure 'correlation.py' exists in the scripts directory and is accessible.\")\n",
    "import pandas as pd\n",
    "\n",
    "nltk.download('vader_lexicon')\n",
    "nltk.download('punkt')\n",
    "# Use the already loaded news_df and stock_df variables from the notebook\n",
    "# Ensure 'date' column is in datetime format and handle missing values\n",
    "news_df= pd.read_csv('data/raw_analyst_ratings.csv')\n",
    "stock_df = pd.read_csv('data/yfinance_data/NVDA_historical_data.csv')\n",
    "news_df['date'] = pd.to_datetime(news_df['date'], errors='coerce')\n",
    "news_df = news_df.dropna(subset=['date'])\n",
    "# Remove timezone info if present\n",
    "if hasattr(news_df['date'].dt, 'tz') and (news_df['date'].dt.tz is not None or news_df['date'].astype(str).str.contains(r'[+-]\\d{2}:\\d{2}').any()):\n",
    "\tnews_df['date'] = news_df['date'].dt.tz_localize(None)\n",
    "merged_df = align_data(news_df, stock_df)\n",
    "analyze_correlation(merged_df)\n",
    "calculate_sentiment(news_df)  \n",
    "interpret_correlation(news_df, stock_df)\n",
    "plot_correlation(news_df, stock_df)\n",
    "import matplotlib.pyplot as plt\n",
    "plt.show()  \n"
   ]
  }
 ],
 "metadata": {
  "language_info": {
   "name": "python"
  }
 },
 "nbformat": 4,
 "nbformat_minor": 5
}
