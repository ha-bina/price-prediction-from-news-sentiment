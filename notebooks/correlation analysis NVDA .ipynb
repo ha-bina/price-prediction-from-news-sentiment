{
 "cells": [
  {
   "cell_type": "code",
   "execution_count": null,
   "id": "e0d03457",
   "metadata": {},
   "outputs": [
    {
     "name": "stdout",
     "output_type": "stream",
     "text": [
      "Requirement already satisfied: nltk in c:\\users\\yohanan\\price-prediction-from-news-sentiment\\.venv\\lib\\site-packages (3.9.1)\n",
      "Requirement already satisfied: click in c:\\users\\yohanan\\price-prediction-from-news-sentiment\\.venv\\lib\\site-packages (from nltk) (8.2.1)\n",
      "Requirement already satisfied: joblib in c:\\users\\yohanan\\price-prediction-from-news-sentiment\\.venv\\lib\\site-packages (from nltk) (1.5.1)\n",
      "Requirement already satisfied: regex>=2021.8.3 in c:\\users\\yohanan\\price-prediction-from-news-sentiment\\.venv\\lib\\site-packages (from nltk) (2024.11.6)\n",
      "Requirement already satisfied: tqdm in c:\\users\\yohanan\\price-prediction-from-news-sentiment\\.venv\\lib\\site-packages (from nltk) (4.67.1)\n",
      "Requirement already satisfied: colorama in c:\\users\\yohanan\\price-prediction-from-news-sentiment\\.venv\\lib\\site-packages (from click->nltk) (0.4.6)\n",
      "Note: you may need to restart the kernel to use updated packages.\n"
     ]
    },
    {
     "name": "stderr",
     "output_type": "stream",
     "text": [
      "[nltk_data] Downloading package vader_lexicon to\n",
      "[nltk_data]     C:\\Users\\Yohanan\\AppData\\Roaming\\nltk_data...\n",
      "[nltk_data]   Package vader_lexicon is already up-to-date!\n",
      "[nltk_data] Downloading package vader_lexicon to\n",
      "[nltk_data]     C:\\Users\\Yohanan\\AppData\\Roaming\\nltk_data...\n",
      "[nltk_data]   Package vader_lexicon is already up-to-date!\n",
      "[nltk_data] Downloading package punkt to\n",
      "[nltk_data]     C:\\Users\\Yohanan\\AppData\\Roaming\\nltk_data...\n",
      "[nltk_data]   Package punkt is already up-to-date!\n"
     ]
    }
   ],
   "source": [
    "%pip install nltk\n",
    "import sys\n",
    "import os\n",
    "import sys\n",
    "import os\n",
    "import nltk\n",
    "sys.path.append(os.path.abspath(os.path.join(os.getcwd(), '..')))\n",
    "\n",
    "# Define the path to correlation.py in the scripts directory one level above the current working directory\n",
    "correlation_path = os.path.abspath(os.path.join(os.getcwd(), '..', 'scripts', 'correlation.py'))\n",
    "scripts_dir = os.path.dirname(correlation_path)\n",
    "if scripts_dir not in sys.path:\n",
    "\tsys.path.insert(0, scripts_dir)\n",
    "\n",
    "if not os.path.exists(correlation_path):\n",
    "\traise FileNotFoundError(f\"Could not find '{correlation_path}'. Please ensure 'correlation.py' exists in the 'scripts' directory one level above your current working directory.\")\n",
    "\n",
    "try:\n",
    "\tfrom scripts.correlation import align_data, analyze_correlation, calculate_sentiment, interpret_correlation, plot_correlation\n",
    "except ModuleNotFoundError:\n",
    "\traise ModuleNotFoundError(\"Could not import 'correlation'. Make sure 'correlation.py' exists in the scripts directory and is accessible.\")\n",
    "import pandas as pd\n",
    "\n",
    "nltk.download('vader_lexicon')\n",
    "nltk.download('punkt')\n",
    "# Use the already loaded news_df and stock_df variables from the notebook\n",
    "# Ensure 'date' column is in datetime format and handle missing values\n",
    "news_df= pd.read_csv('data/raw_analyst_ratings.csv')\n",
    "stock_df = pd.read_csv('data/yfinance_data/NVDA_historical_data.csv')\n",
    "\n",
    "# Standardize column names to lowercase for consistency\n",
    "stock_df.columns = [col.lower() for col in stock_df.columns]\n",
    "\n",
    "# Ensure 'date' columns are datetime and drop missing dates\n",
    "news_df['date'] = pd.to_datetime(news_df['date'], errors='coerce')\n",
    "news_df = news_df.dropna(subset=['date'])\n",
    "\n",
    "# Remove timezone info if present\n",
    "if hasattr(news_df['date'].dt, 'tz') and (news_df['date'].dt.tz is not None or news_df['date'].astype(str).str.contains(r'[+-]\\d{2}:\\d{2}').any()):\n",
    "\tnews_df['date'] = news_df['date'].dt.tz_localize(None)\n",
    "\n",
    "# Ensure stock_df has a 'date' column in datetime format\n",
    "stock_df['date'] = pd.to_datetime(stock_df['date'], errors='coerce')\n",
    "\n",
    "merged_df = align_data(news_df, stock_df)\n",
    "analyze_correlation(merged_df)\n",
    "calculate_sentiment(news_df)  \n",
    "interpret_correlation(news_df, stock_df)\n",
    "plot_correlation(news_df, stock_df)\n",
    "import matplotlib.pyplot as plt\n",
    "plt.show()  \n"
   ]
  }
 ],
 "metadata": {
  "kernelspec": {
   "display_name": ".venv",
   "language": "python",
   "name": "python3"
  },
  "language_info": {
   "codemirror_mode": {
    "name": "ipython",
    "version": 3
   },
   "file_extension": ".py",
   "mimetype": "text/x-python",
   "name": "python",
   "nbconvert_exporter": "python",
   "pygments_lexer": "ipython3",
   "version": "3.13.3"
  }
 },
 "nbformat": 4,
 "nbformat_minor": 5
}
